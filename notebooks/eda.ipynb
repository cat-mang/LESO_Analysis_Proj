{
 "cells": [
  {
   "cell_type": "code",
   "execution_count": 1,
   "metadata": {},
   "outputs": [],
   "source": [
    "import pandas as pd\n",
    "import seaborn as sns\n",
    "import matplotlib.pyplot as plt\n",
    "import numpy as np\n",
    "from scipy.stats import stats"
   ]
  },
  {
   "cell_type": "code",
   "execution_count": 4,
   "metadata": {},
   "outputs": [],
   "source": [
    "leso = pd.read_csv('../data/1033-program-foia-may-2014.csv')"
   ]
  },
  {
   "cell_type": "code",
   "execution_count": 6,
   "metadata": {},
   "outputs": [
    {
     "name": "stdout",
     "output_type": "stream",
     "text": [
      "<class 'pandas.core.frame.DataFrame'>\n",
      "RangeIndex: 243492 entries, 0 to 243491\n",
      "Data columns (total 8 columns):\n",
      " #   Column            Non-Null Count   Dtype  \n",
      "---  ------            --------------   -----  \n",
      " 0   State             243492 non-null  object \n",
      " 1   County            243422 non-null  object \n",
      " 2   NSN               243309 non-null  object \n",
      " 3   Item Name         239658 non-null  object \n",
      " 4   Quantity          243492 non-null  int64  \n",
      " 5   UI                243491 non-null  object \n",
      " 6   Acquisition Cost  243492 non-null  float64\n",
      " 7   Ship Date         243492 non-null  object \n",
      "dtypes: float64(1), int64(1), object(6)\n",
      "memory usage: 14.9+ MB\n"
     ]
    }
   ],
   "source": [
    "#LESO Dataframe EDA\n",
    "leso.info()"
   ]
  }
 ],
 "metadata": {
  "kernelspec": {
   "display_name": "base",
   "language": "python",
   "name": "python3"
  },
  "language_info": {
   "codemirror_mode": {
    "name": "ipython",
    "version": 3
   },
   "file_extension": ".py",
   "mimetype": "text/x-python",
   "name": "python",
   "nbconvert_exporter": "python",
   "pygments_lexer": "ipython3",
   "version": "3.11.5"
  }
 },
 "nbformat": 4,
 "nbformat_minor": 2
}
